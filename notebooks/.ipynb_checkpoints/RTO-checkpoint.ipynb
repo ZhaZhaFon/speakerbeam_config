{
 "cells": [
  {
   "cell_type": "code",
   "execution_count": 1,
   "id": "87bc87a7-9036-4e4e-8f2f-31174e0e59cb",
   "metadata": {},
   "outputs": [],
   "source": [
    "import matplotlib.pyplot as plt\n",
    "import numpy as np\n",
    "import yaml\n",
    "import torch as th\n",
    "import random\n",
    "import IPython.display as dsp\n",
    "import soundfile as sf\n",
    "from asteroid.metrics import get_metrics\n",
    "import pandas as pd\n",
    "import tqdm\n",
    "import torchaudio as ta\n",
    "import os\n",
    "\n",
    "blue = '#1f77b4' # 蓝色\n",
    "orange = '#ff7f0e' # 橙色\n",
    "green = '#2ca02c' # 绿色\n",
    "red = '#d62728' # 红色\n",
    "\n",
    "import sys\n",
    "sys.path.append('/data2/yqc/zzf/repo_zzf/speakerbeam/src')\n",
    "from models.td_speakerbeam import TimeDomainSpeakerBeam"
   ]
  },
  {
   "cell_type": "code",
   "execution_count": 2,
   "id": "df0e9ba1-06c8-473b-a739-5dbca89f3f73",
   "metadata": {},
   "outputs": [],
   "source": [
    "device = th.device('cuda:0')"
   ]
  },
  {
   "cell_type": "code",
   "execution_count": 3,
   "id": "eb7366b6-3511-4f6c-a90e-207ca94db5ab",
   "metadata": {},
   "outputs": [],
   "source": [
    "modelpath = '../example/model.pth' # 预训练模型路径\n",
    "model = TimeDomainSpeakerBeam.from_pretrained(modelpath) # 加载预训练模型\n",
    "model = model.to(device)"
   ]
  },
  {
   "cell_type": "code",
   "execution_count": 5,
   "id": "957a1f40-32ec-488d-99d8-cf443bf8101e",
   "metadata": {},
   "outputs": [],
   "source": [
    "    def sisnr(x, s, eps=1e-8):\n",
    "        \"\"\"\n",
    "        Arguments:\n",
    "        x: separated signal, N x S tensor\n",
    "        s: reference signal, N x S tensor\n",
    "        Return:\n",
    "        sisnr: N tensor\n",
    "        \"\"\"\n",
    "\n",
    "        def l2norm(mat, keepdim=False):\n",
    "            return th.norm(mat, dim=-1, keepdim=keepdim)\n",
    "\n",
    "        if x.shape != s.shape:\n",
    "            raise RuntimeError(\n",
    "                \"Dimention mismatch when calculate si-snr, {} vs {}\".format(\n",
    "                    x.shape, s.shape))\n",
    "        x_zm = x - th.mean(x, dim=-1, keepdim=True)\n",
    "        s_zm = s - th.mean(s, dim=-1, keepdim=True)\n",
    "        t = th.sum(\n",
    "            x_zm * s_zm, dim=-1,\n",
    "            keepdim=True) * s_zm / (l2norm(s_zm, keepdim=True)**2 + eps)\n",
    "        return 20 * th.log10(eps + l2norm(t) / (l2norm(x_zm - t) + eps))"
   ]
  },
  {
   "cell_type": "markdown",
   "id": "5b9ba13a-afc2-4a31-b039-5218779ef536",
   "metadata": {},
   "source": [
    "### baseline"
   ]
  },
  {
   "cell_type": "markdown",
   "id": "cadc096c-2075-4c91-a1b7-4a69d3685016",
   "metadata": {},
   "source": [
    "#### Libri2Mix(8kmin) / test / mix_both"
   ]
  },
  {
   "cell_type": "code",
   "execution_count": 5,
   "id": "c0081364-f120-442f-8ebc-3f7f361095a4",
   "metadata": {},
   "outputs": [
    {
     "name": "stderr",
     "output_type": "stream",
     "text": [
      "100%|██████████████████████████████████████████████████████████████████████████████████████████████████████████| 6000/6000 [15:07<00:00,  6.61it/s]\n"
     ]
    }
   ],
   "source": [
    "\n",
    "csv = '/data2/yqc/zzf/repo_zzf/speakerbeam/egs/libri2mix/data/wav8k/min/test/map_mixture2enrollment'\n",
    "\n",
    "with open(csv, 'r') as f:\n",
    "    lines = f.readlines()\n",
    "    \n",
    "mix_base = '/data2/yqc/zzf/dataset_zzf/librimix/Libri2Mix/wav8k/min/test/mix_both/'\n",
    "tt_base = '/data2/yqc/zzf/dataset_zzf/librimix/Libri2Mix/wav8k/min/test/'\n",
    "\n",
    "sisdri_list_librimix = []\n",
    "for line in tqdm.tqdm(lines):\n",
    "    \n",
    "    line = line.strip()\n",
    "    mix_file, aux_spk, aux_file = line.split(' ')\n",
    "    \n",
    "    mix_path = os.path.join(mix_base, mix_file+'.wav')\n",
    "    aux_path = os.path.join(tt_base, aux_file+'.wav')\n",
    "    if aux_spk == mix_file.split('_')[0]:\n",
    "        gt_path = os.path.join(tt_base, 's1', mix_file+'.wav')\n",
    "    elif aux_spk == mix_file.split('_')[1]:\n",
    "        gt_path = os.path.join(tt_base, 's2', mix_file+'.wav')\n",
    "    \n",
    "    mix_wav, fs = ta.load(mix_path)\n",
    "    aux_wav, fs = ta.load(aux_path)\n",
    "    gt_wav, fs = ta.load(gt_path)\n",
    "    \n",
    "    mix_wav = mix_wav.squeeze().to(device)\n",
    "    aux_wav = aux_wav.squeeze().to(device)\n",
    "    gt_wav = gt_wav.squeeze().to(device)\n",
    "    \n",
    "    # 说话人抽取\n",
    "    est_wav = model(mix_wav.unsqueeze(0), aux_wav.unsqueeze(0))[0][0].detach() # 推理\n",
    "    \n",
    "    minlen = min(len(mix_wav.squeeze()), len(est_wav.squeeze()), len(gt_wav))\n",
    "    mix_wav = mix_wav[:minlen]\n",
    "    gt_wav = gt_wav[:minlen]\n",
    "    est_wav = est_wav[:minlen]\n",
    "    \n",
    "    rto_with_gt(given_wavs=[est_wav, mix_wav], gt_wav=gt_wav)\n",
    "    rto_with_ref(given_wavs=[est_wav, mix_wav], gt_wav=gt_wav)\n",
    "    \n",
    "    sisdr_mix = sisnr(mix_wav, gt_wav)\n",
    "    sisdr_sep = sisnr(est_wav, gt_wav)\n",
    "    sisdr_i = sisdr_sep - sisdr_mix\n",
    "    sisdri_list_librimix.append(sisdr_i.cpu().item())\n",
    "    \n",
    "    #break"
   ]
  },
  {
   "cell_type": "code",
   "execution_count": 38,
   "id": "a7950f9a-a008-4539-a9e2-07d19aa01e1b",
   "metadata": {},
   "outputs": [],
   "source": [
    "for i in range(len(sisdri_list_librimix)):\n",
    "    sisdri_list_librimix[i] = sisdri_list_librimix[i].item()"
   ]
  },
  {
   "cell_type": "code",
   "execution_count": 39,
   "id": "aee9419b-abaa-4f74-bdf4-477bac108a67",
   "metadata": {},
   "outputs": [],
   "source": [
    "np.save('sisdri_list_librimix(mix-both)_baseline.npy', sisdri_list_librimix)"
   ]
  },
  {
   "cell_type": "code",
   "execution_count": 58,
   "id": "10f1f846-2adf-4897-93f7-b9c05ac7c51b",
   "metadata": {},
   "outputs": [
    {
     "data": {
      "image/png": "[encoded data removed]",
      "text/plain": [
       "<Figure size 432x288 with 1 Axes>"
      ]
     },
     "metadata": {
      "needs_background": "light"
     },
     "output_type": "display_data"
    },
    {
     "name": "stdout",
     "output_type": "stream",
     "text": [
      "mean SISDRi = 11.43 dB\n"
     ]
    }
   ],
   "source": [
    "sisdri_mean = np.mean(sisdri_list_librimix)\n",
    "\n",
    "mean_bar = 450\n",
    "plt.figure()\n",
    "plt.hist(sisdri_list_librimix, bins=len(sisdri_list_librimix)//50)\n",
    "plt.plot(sisdri_mean * np.ones(mean_bar), np.arange(mean_bar), red)\n",
    "plt.title('SpeakerBeam (train/libri2mix(train-100/sep-noisy), eval/librimix(test/mix-both)')\n",
    "plt.xlabel('SISDRi / dB')\n",
    "plt.show()\n",
    "\n",
    "print('mean SISDRi = {:.2f} dB'.format(sisdri_mean))"
   ]
  },
  {
   "cell_type": "code",
   "execution_count": null,
   "id": "ec0c4055-be47-4758-81bf-8707dfed7447",
   "metadata": {},
   "outputs": [],
   "source": []
  },
  {
   "cell_type": "markdown",
   "id": "915e3994-a1b1-44e4-bd29-7a80be3f9324",
   "metadata": {},
   "source": [
    "### RunTime Optimization"
   ]
  },
  {
   "cell_type": "markdown",
   "id": "9584989a-131c-4b9e-a313-801e2fe40e3d",
   "metadata": {},
   "source": [
    "#### Libri2Mix(8kmin) / test / mix_both"
   ]
  },
  {
   "cell_type": "markdown",
   "id": "e428e97e-9df7-47e9-990a-85ff3b2cedca",
   "metadata": {},
   "source": [
    "##### RTO with gt"
   ]
  },
  {
   "cell_type": "code",
   "execution_count": 13,
   "id": "298e784e-452b-4617-8ae5-faa1aa3fbed8",
   "metadata": {},
   "outputs": [
    {
     "name": "stderr",
     "output_type": "stream",
     "text": [
      "  0%|                                                                                                             | 1/6000 [00:00<16:18,  6.13it/s]"
     ]
    },
    {
     "name": "stdout",
     "output_type": "stream",
     "text": [
      "tensor(12.7138, device='cuda:0') 12.713770866394043\n"
     ]
    },
    {
     "name": "stderr",
     "output_type": "stream",
     "text": [
      "  0%|                                                                                                             | 5/6000 [00:00<18:52,  5.29it/s]"
     ]
    },
    {
     "name": "stdout",
     "output_type": "stream",
     "text": [
      "tensor(13.5109, device='cuda:0') 13.510740280151367\n"
     ]
    },
    {
     "name": "stderr",
     "output_type": "stream",
     "text": [
      "  0%|▏                                                                                                            | 8/6000 [00:01<16:37,  6.00it/s]"
     ]
    },
    {
     "name": "stdout",
     "output_type": "stream",
     "text": [
      "tensor(8.5174, device='cuda:0') 8.517367362976074\n"
     ]
    },
    {
     "name": "stderr",
     "output_type": "stream",
     "text": [
      "  0%|▏                                                                                                           | 10/6000 [00:01<18:36,  5.37it/s]"
     ]
    },
    {
     "name": "stdout",
     "output_type": "stream",
     "text": [
      "tensor(13.1379, device='cuda:0') 13.13789176940918\n",
      "tensor(14.4639, device='cuda:0') 14.463830947875977\n"
     ]
    },
    {
     "name": "stderr",
     "output_type": "stream",
     "text": [
      "  0%|▏                                                                                                           | 13/6000 [00:02<12:56,  7.71it/s]"
     ]
    },
    {
     "name": "stdout",
     "output_type": "stream",
     "text": [
      "tensor(17.9536, device='cuda:0') 17.95363998413086\n",
      "tensor(14.8013, device='cuda:0') 14.801290512084961\n"
     ]
    },
    {
     "name": "stderr",
     "output_type": "stream",
     "text": [
      "  0%|▎                                                                                                           | 15/6000 [00:02<13:22,  7.46it/s]"
     ]
    },
    {
     "name": "stdout",
     "output_type": "stream",
     "text": [
      "tensor(13.4032, device='cuda:0') 13.403204917907715\n",
      "tensor(10.4891, device='cuda:0') 10.489141464233398\n"
     ]
    },
    {
     "name": "stderr",
     "output_type": "stream",
     "text": [
      "  0%|▎                                                                                                           | 20/6000 [00:03<13:32,  7.36it/s]"
     ]
    },
    {
     "name": "stdout",
     "output_type": "stream",
     "text": [
      "tensor(15.0881, device='cuda:0') 15.088083267211914\n",
      "tensor(9.5746, device='cuda:0') 9.574604988098145\n"
     ]
    },
    {
     "name": "stderr",
     "output_type": "stream",
     "text": [
      "  0%|▍                                                                                                           | 22/6000 [00:03<12:59,  7.67it/s]"
     ]
    },
    {
     "name": "stdout",
     "output_type": "stream",
     "text": [
      "tensor(10.4500, device='cuda:0') 10.450021743774414\n",
      "tensor(11.7105, device='cuda:0') 11.710493087768555\n"
     ]
    },
    {
     "name": "stderr",
     "output_type": "stream",
     "text": [
      "  0%|▍                                                                                                           | 24/6000 [00:03<15:20,  6.49it/s]"
     ]
    },
    {
     "name": "stdout",
     "output_type": "stream",
     "text": [
      "tensor(9.7878, device='cuda:0') 9.78776741027832\n"
     ]
    },
    {
     "name": "stderr",
     "output_type": "stream",
     "text": [
      "  0%|▌                                                                                                           | 29/6000 [00:04<20:59,  4.74it/s]"
     ]
    },
    {
     "name": "stdout",
     "output_type": "stream",
     "text": [
      "tensor(14.4808, device='cuda:0') 14.480802536010742\n"
     ]
    },
    {
     "name": "stderr",
     "output_type": "stream",
     "text": [
      "  0%|▌                                                                                                           | 30/6000 [00:05<22:30,  4.42it/s]"
     ]
    },
    {
     "name": "stdout",
     "output_type": "stream",
     "text": [
      "tensor(8.6961, device='cuda:0') 8.69607162475586\n"
     ]
    },
    {
     "name": "stderr",
     "output_type": "stream",
     "text": [
      "  1%|▌                                                                                                           | 33/6000 [00:05<21:58,  4.52it/s]"
     ]
    },
    {
     "name": "stdout",
     "output_type": "stream",
     "text": [
      "tensor(12.1773, device='cuda:0') 12.177295684814453\n"
     ]
    },
    {
     "name": "stderr",
     "output_type": "stream",
     "text": [
      "  1%|▋                                                                                                           | 35/6000 [00:06<21:54,  4.54it/s]"
     ]
    },
    {
     "name": "stdout",
     "output_type": "stream",
     "text": [
      "tensor(15.5673, device='cuda:0') 15.56728744506836\n"
     ]
    },
    {
     "name": "stderr",
     "output_type": "stream",
     "text": [
      "  1%|▋                                                                                                           | 37/6000 [00:06<19:46,  5.03it/s]"
     ]
    },
    {
     "name": "stdout",
     "output_type": "stream",
     "text": [
      "tensor(11.3174, device='cuda:0') 11.317338943481445\n"
     ]
    },
    {
     "name": "stderr",
     "output_type": "stream",
     "text": [
      "  1%|▋                                                                                                           | 38/6000 [00:06<18:07,  5.48it/s]"
     ]
    },
    {
     "name": "stdout",
     "output_type": "stream",
     "text": [
      "tensor(10.6150, device='cuda:0') 10.61502456665039\n",
      "tensor(8.4536, device='cuda:0') 8.453638076782227\n"
     ]
    },
    {
     "name": "stderr",
     "output_type": "stream",
     "text": [
      "  1%|▋                                                                                                           | 41/6000 [00:07<15:04,  6.59it/s]"
     ]
    },
    {
     "name": "stdout",
     "output_type": "stream",
     "text": [
      "tensor(11.4267, device='cuda:0') 11.426630020141602\n",
      "tensor(2.3520, device='cuda:0') -13.330442428588867\n"
     ]
    },
    {
     "name": "stderr",
     "output_type": "stream",
     "text": [
      "  1%|▊                                                                                                           | 45/6000 [00:07<12:43,  7.80it/s]"
     ]
    },
    {
     "name": "stdout",
     "output_type": "stream",
     "text": [
      "tensor(13.3679, device='cuda:0') 13.367881774902344\n",
      "tensor(9.2033, device='cuda:0') 9.20327377319336\n",
      "tensor(6.9982, device='cuda:0') 6.998117446899414\n"
     ]
    },
    {
     "name": "stderr",
     "output_type": "stream",
     "text": [
      "  1%|▉                                                                                                           | 50/6000 [00:08<12:37,  7.86it/s]"
     ]
    },
    {
     "name": "stdout",
     "output_type": "stream",
     "text": [
      "tensor(5.8250, device='cuda:0') 5.824994087219238\n",
      "tensor(8.7722, device='cuda:0') 8.772029876708984\n"
     ]
    },
    {
     "name": "stderr",
     "output_type": "stream",
     "text": [
      "  1%|▉                                                                                                           | 50/6000 [00:08<17:30,  5.67it/s]\n"
     ]
    },
    {
     "ename": "KeyboardInterrupt",
     "evalue": "",
     "output_type": "error",
     "traceback": [
      "\u001b[0;31m---------------------------------------------------------------------------\u001b[0m",
      "\u001b[0;31mKeyboardInterrupt\u001b[0m                         Traceback (most recent call last)",
      "\u001b[0;32m/tmp/ipykernel_21291/863938256.py\u001b[0m in \u001b[0;36m<module>\u001b[0;34m\u001b[0m\n\u001b[1;32m     45\u001b[0m \u001b[0;34m\u001b[0m\u001b[0m\n\u001b[1;32m     46\u001b[0m     \u001b[0;31m# 说话人抽取\u001b[0m\u001b[0;34m\u001b[0m\u001b[0;34m\u001b[0m\u001b[0;34m\u001b[0m\u001b[0m\n\u001b[0;32m---> 47\u001b[0;31m     \u001b[0mest_wav\u001b[0m \u001b[0;34m=\u001b[0m \u001b[0mmodel\u001b[0m\u001b[0;34m(\u001b[0m\u001b[0mmix_wav\u001b[0m\u001b[0;34m.\u001b[0m\u001b[0munsqueeze\u001b[0m\u001b[0;34m(\u001b[0m\u001b[0;36m0\u001b[0m\u001b[0;34m)\u001b[0m\u001b[0;34m,\u001b[0m \u001b[0maux_wav\u001b[0m\u001b[0;34m.\u001b[0m\u001b[0munsqueeze\u001b[0m\u001b[0;34m(\u001b[0m\u001b[0;36m0\u001b[0m\u001b[0;34m)\u001b[0m\u001b[0;34m)\u001b[0m\u001b[0;34m[\u001b[0m\u001b[0;36m0\u001b[0m\u001b[0;34m]\u001b[0m\u001b[0;34m[\u001b[0m\u001b[0;36m0\u001b[0m\u001b[0;34m]\u001b[0m\u001b[0;34m.\u001b[0m\u001b[0mdetach\u001b[0m\u001b[0;34m(\u001b[0m\u001b[0;34m)\u001b[0m \u001b[0;31m# 推理\u001b[0m\u001b[0;34m\u001b[0m\u001b[0;34m\u001b[0m\u001b[0m\n\u001b[0m\u001b[1;32m     48\u001b[0m \u001b[0;34m\u001b[0m\u001b[0m\n\u001b[1;32m     49\u001b[0m     \u001b[0mminlen\u001b[0m \u001b[0;34m=\u001b[0m \u001b[0mmin\u001b[0m\u001b[0;34m(\u001b[0m\u001b[0mlen\u001b[0m\u001b[0;34m(\u001b[0m\u001b[0mmix_wav\u001b[0m\u001b[0;34m.\u001b[0m\u001b[0msqueeze\u001b[0m\u001b[0;34m(\u001b[0m\u001b[0;34m)\u001b[0m\u001b[0;34m)\u001b[0m\u001b[0;34m,\u001b[0m \u001b[0mlen\u001b[0m\u001b[0;34m(\u001b[0m\u001b[0mest_wav\u001b[0m\u001b[0;34m.\u001b[0m\u001b[0msqueeze\u001b[0m\u001b[0;34m(\u001b[0m\u001b[0;34m)\u001b[0m\u001b[0;34m)\u001b[0m\u001b[0;34m,\u001b[0m \u001b[0mlen\u001b[0m\u001b[0;34m(\u001b[0m\u001b[0mgt_wav\u001b[0m\u001b[0;34m)\u001b[0m\u001b[0;34m)\u001b[0m\u001b[0;34m\u001b[0m\u001b[0;34m\u001b[0m\u001b[0m\n",
      "\u001b[0;32m~/miniconda2/envs/zzf/lib/python3.8/site-packages/torch/nn/modules/module.py\u001b[0m in \u001b[0;36m_call_impl\u001b[0;34m(self, *input, **kwargs)\u001b[0m\n\u001b[1;32m    725\u001b[0m             \u001b[0mresult\u001b[0m \u001b[0;34m=\u001b[0m \u001b[0mself\u001b[0m\u001b[0;34m.\u001b[0m\u001b[0m_slow_forward\u001b[0m\u001b[0;34m(\u001b[0m\u001b[0;34m*\u001b[0m\u001b[0minput\u001b[0m\u001b[0;34m,\u001b[0m \u001b[0;34m**\u001b[0m\u001b[0mkwargs\u001b[0m\u001b[0;34m)\u001b[0m\u001b[0;34m\u001b[0m\u001b[0;34m\u001b[0m\u001b[0m\n\u001b[1;32m    726\u001b[0m         \u001b[0;32melse\u001b[0m\u001b[0;34m:\u001b[0m\u001b[0;34m\u001b[0m\u001b[0;34m\u001b[0m\u001b[0m\n\u001b[0;32m--> 727\u001b[0;31m             \u001b[0mresult\u001b[0m \u001b[0;34m=\u001b[0m \u001b[0mself\u001b[0m\u001b[0;34m.\u001b[0m\u001b[0mforward\u001b[0m\u001b[0;34m(\u001b[0m\u001b[0;34m*\u001b[0m\u001b[0minput\u001b[0m\u001b[0;34m,\u001b[0m \u001b[0;34m**\u001b[0m\u001b[0mkwargs\u001b[0m\u001b[0;34m)\u001b[0m\u001b[0;34m\u001b[0m\u001b[0;34m\u001b[0m\u001b[0m\n\u001b[0m\u001b[1;32m    728\u001b[0m         for hook in itertools.chain(\n\u001b[1;32m    729\u001b[0m                 \u001b[0m_global_forward_hooks\u001b[0m\u001b[0;34m.\u001b[0m\u001b[0mvalues\u001b[0m\u001b[0;34m(\u001b[0m\u001b[0;34m)\u001b[0m\u001b[0;34m,\u001b[0m\u001b[0;34m\u001b[0m\u001b[0;34m\u001b[0m\u001b[0m\n",
      "\u001b[0;32m/data2/yqc/zzf/repo_zzf/speakerbeam/src/models/base_models_informed.py\u001b[0m in \u001b[0;36mforward\u001b[0;34m(self, wav, enrollment)\u001b[0m\n\u001b[1;32m     45\u001b[0m         \u001b[0mtf_rep\u001b[0m \u001b[0;34m=\u001b[0m \u001b[0mself\u001b[0m\u001b[0;34m.\u001b[0m\u001b[0mforward_encoder\u001b[0m\u001b[0;34m(\u001b[0m\u001b[0mwav\u001b[0m\u001b[0;34m)\u001b[0m\u001b[0;34m\u001b[0m\u001b[0;34m\u001b[0m\u001b[0m\n\u001b[1;32m     46\u001b[0m         \u001b[0menroll_emb\u001b[0m \u001b[0;34m=\u001b[0m \u001b[0mself\u001b[0m\u001b[0;34m.\u001b[0m\u001b[0mauxiliary\u001b[0m\u001b[0;34m(\u001b[0m\u001b[0menrollment\u001b[0m\u001b[0;34m)\u001b[0m\u001b[0;34m\u001b[0m\u001b[0;34m\u001b[0m\u001b[0m\n\u001b[0;32m---> 47\u001b[0;31m         \u001b[0mest_masks\u001b[0m \u001b[0;34m=\u001b[0m \u001b[0mself\u001b[0m\u001b[0;34m.\u001b[0m\u001b[0mforward_masker\u001b[0m\u001b[0;34m(\u001b[0m\u001b[0mtf_rep\u001b[0m\u001b[0;34m,\u001b[0m \u001b[0menroll_emb\u001b[0m\u001b[0;34m)\u001b[0m\u001b[0;34m\u001b[0m\u001b[0;34m\u001b[0m\u001b[0m\n\u001b[0m\u001b[1;32m     48\u001b[0m         \u001b[0mmasked_tf_rep\u001b[0m \u001b[0;34m=\u001b[0m \u001b[0mself\u001b[0m\u001b[0;34m.\u001b[0m\u001b[0mapply_masks\u001b[0m\u001b[0;34m(\u001b[0m\u001b[0mtf_rep\u001b[0m\u001b[0;34m,\u001b[0m \u001b[0mest_masks\u001b[0m\u001b[0;34m)\u001b[0m\u001b[0;34m\u001b[0m\u001b[0;34m\u001b[0m\u001b[0m\n\u001b[1;32m     49\u001b[0m         \u001b[0mdecoded\u001b[0m \u001b[0;34m=\u001b[0m \u001b[0mself\u001b[0m\u001b[0;34m.\u001b[0m\u001b[0mforward_decoder\u001b[0m\u001b[0;34m(\u001b[0m\u001b[0mmasked_tf_rep\u001b[0m\u001b[0;34m)\u001b[0m\u001b[0;34m\u001b[0m\u001b[0;34m\u001b[0m\u001b[0m\n",
      "\u001b[0;32m/data2/yqc/zzf/repo_zzf/speakerbeam/src/models/base_models_informed.py\u001b[0m in \u001b[0;36mforward_masker\u001b[0;34m(self, tf_rep, enroll)\u001b[0m\n\u001b[1;32m     65\u001b[0m             \u001b[0mtorch\u001b[0m\u001b[0;34m.\u001b[0m\u001b[0mTensor\u001b[0m\u001b[0;34m:\u001b[0m \u001b[0mEstimated\u001b[0m \u001b[0mmasks\u001b[0m\u001b[0;34m\u001b[0m\u001b[0;34m\u001b[0m\u001b[0m\n\u001b[1;32m     66\u001b[0m         \"\"\"\n\u001b[0;32m---> 67\u001b[0;31m         \u001b[0;32mreturn\u001b[0m \u001b[0mself\u001b[0m\u001b[0;34m.\u001b[0m\u001b[0mmasker\u001b[0m\u001b[0;34m(\u001b[0m\u001b[0mtf_rep\u001b[0m\u001b[0;34m,\u001b[0m \u001b[0menroll\u001b[0m\u001b[0;34m)\u001b[0m\u001b[0;34m\u001b[0m\u001b[0;34m\u001b[0m\u001b[0m\n\u001b[0m",
      "\u001b[0;32m~/miniconda2/envs/zzf/lib/python3.8/site-packages/torch/nn/modules/module.py\u001b[0m in \u001b[0;36m_call_impl\u001b[0;34m(self, *input, **kwargs)\u001b[0m\n\u001b[1;32m    725\u001b[0m             \u001b[0mresult\u001b[0m \u001b[0;34m=\u001b[0m \u001b[0mself\u001b[0m\u001b[0;34m.\u001b[0m\u001b[0m_slow_forward\u001b[0m\u001b[0;34m(\u001b[0m\u001b[0;34m*\u001b[0m\u001b[0minput\u001b[0m\u001b[0;34m,\u001b[0m \u001b[0;34m**\u001b[0m\u001b[0mkwargs\u001b[0m\u001b[0;34m)\u001b[0m\u001b[0;34m\u001b[0m\u001b[0;34m\u001b[0m\u001b[0m\n\u001b[1;32m    726\u001b[0m         \u001b[0;32melse\u001b[0m\u001b[0;34m:\u001b[0m\u001b[0;34m\u001b[0m\u001b[0;34m\u001b[0m\u001b[0m\n\u001b[0;32m--> 727\u001b[0;31m             \u001b[0mresult\u001b[0m \u001b[0;34m=\u001b[0m \u001b[0mself\u001b[0m\u001b[0;34m.\u001b[0m\u001b[0mforward\u001b[0m\u001b[0;34m(\u001b[0m\u001b[0;34m*\u001b[0m\u001b[0minput\u001b[0m\u001b[0;34m,\u001b[0m \u001b[0;34m**\u001b[0m\u001b[0mkwargs\u001b[0m\u001b[0;34m)\u001b[0m\u001b[0;34m\u001b[0m\u001b[0;34m\u001b[0m\u001b[0m\n\u001b[0m\u001b[1;32m    728\u001b[0m         for hook in itertools.chain(\n\u001b[1;32m    729\u001b[0m                 \u001b[0m_global_forward_hooks\u001b[0m\u001b[0;34m.\u001b[0m\u001b[0mvalues\u001b[0m\u001b[0;34m(\u001b[0m\u001b[0;34m)\u001b[0m\u001b[0;34m,\u001b[0m\u001b[0;34m\u001b[0m\u001b[0;34m\u001b[0m\u001b[0m\n",
      "\u001b[0;32m/data2/yqc/zzf/repo_zzf/speakerbeam/src/models/td_speakerbeam.py\u001b[0m in \u001b[0;36mforward\u001b[0;34m(self, mixture_w, enroll_emb)\u001b[0m\n\u001b[1;32m    209\u001b[0m         \u001b[0;32mfor\u001b[0m \u001b[0mi\u001b[0m\u001b[0;34m,\u001b[0m \u001b[0mlayer\u001b[0m \u001b[0;32min\u001b[0m \u001b[0menumerate\u001b[0m\u001b[0;34m(\u001b[0m\u001b[0mself\u001b[0m\u001b[0;34m.\u001b[0m\u001b[0mTCN\u001b[0m\u001b[0;34m)\u001b[0m\u001b[0;34m:\u001b[0m\u001b[0;34m\u001b[0m\u001b[0;34m\u001b[0m\u001b[0m\n\u001b[1;32m    210\u001b[0m             \u001b[0;31m# Common to w. skip and w.o skip architectures\u001b[0m\u001b[0;34m\u001b[0m\u001b[0;34m\u001b[0m\u001b[0;34m\u001b[0m\u001b[0m\n\u001b[0;32m--> 211\u001b[0;31m             \u001b[0mtcn_out\u001b[0m \u001b[0;34m=\u001b[0m \u001b[0mlayer\u001b[0m\u001b[0;34m(\u001b[0m\u001b[0moutput\u001b[0m\u001b[0;34m)\u001b[0m\u001b[0;34m\u001b[0m\u001b[0;34m\u001b[0m\u001b[0m\n\u001b[0m\u001b[1;32m    212\u001b[0m             \u001b[0;32mif\u001b[0m \u001b[0mself\u001b[0m\u001b[0;34m.\u001b[0m\u001b[0mskip_chan\u001b[0m\u001b[0;34m:\u001b[0m\u001b[0;34m\u001b[0m\u001b[0;34m\u001b[0m\u001b[0m\n\u001b[1;32m    213\u001b[0m                 \u001b[0mresidual\u001b[0m\u001b[0;34m,\u001b[0m \u001b[0mskip\u001b[0m \u001b[0;34m=\u001b[0m \u001b[0mtcn_out\u001b[0m\u001b[0;34m\u001b[0m\u001b[0;34m\u001b[0m\u001b[0m\n",
      "\u001b[0;32m~/miniconda2/envs/zzf/lib/python3.8/site-packages/torch/nn/modules/module.py\u001b[0m in \u001b[0;36m_call_impl\u001b[0;34m(self, *input, **kwargs)\u001b[0m\n\u001b[1;32m    725\u001b[0m             \u001b[0mresult\u001b[0m \u001b[0;34m=\u001b[0m \u001b[0mself\u001b[0m\u001b[0;34m.\u001b[0m\u001b[0m_slow_forward\u001b[0m\u001b[0;34m(\u001b[0m\u001b[0;34m*\u001b[0m\u001b[0minput\u001b[0m\u001b[0;34m,\u001b[0m \u001b[0;34m**\u001b[0m\u001b[0mkwargs\u001b[0m\u001b[0;34m)\u001b[0m\u001b[0;34m\u001b[0m\u001b[0;34m\u001b[0m\u001b[0m\n\u001b[1;32m    726\u001b[0m         \u001b[0;32melse\u001b[0m\u001b[0;34m:\u001b[0m\u001b[0;34m\u001b[0m\u001b[0;34m\u001b[0m\u001b[0m\n\u001b[0;32m--> 727\u001b[0;31m             \u001b[0mresult\u001b[0m \u001b[0;34m=\u001b[0m \u001b[0mself\u001b[0m\u001b[0;34m.\u001b[0m\u001b[0mforward\u001b[0m\u001b[0;34m(\u001b[0m\u001b[0;34m*\u001b[0m\u001b[0minput\u001b[0m\u001b[0;34m,\u001b[0m \u001b[0;34m**\u001b[0m\u001b[0mkwargs\u001b[0m\u001b[0;34m)\u001b[0m\u001b[0;34m\u001b[0m\u001b[0;34m\u001b[0m\u001b[0m\n\u001b[0m\u001b[1;32m    728\u001b[0m         for hook in itertools.chain(\n\u001b[1;32m    729\u001b[0m                 \u001b[0m_global_forward_hooks\u001b[0m\u001b[0;34m.\u001b[0m\u001b[0mvalues\u001b[0m\u001b[0;34m(\u001b[0m\u001b[0;34m)\u001b[0m\u001b[0;34m,\u001b[0m\u001b[0;34m\u001b[0m\u001b[0;34m\u001b[0m\u001b[0m\n",
      "\u001b[0;32m~/miniconda2/envs/zzf/lib/python3.8/site-packages/asteroid/masknn/convolutional.py\u001b[0m in \u001b[0;36mforward\u001b[0;34m(self, x)\u001b[0m\n\u001b[1;32m     90\u001b[0m     \u001b[0;32mdef\u001b[0m \u001b[0mforward\u001b[0m\u001b[0;34m(\u001b[0m\u001b[0mself\u001b[0m\u001b[0;34m,\u001b[0m \u001b[0mx\u001b[0m\u001b[0;34m)\u001b[0m\u001b[0;34m:\u001b[0m\u001b[0;34m\u001b[0m\u001b[0;34m\u001b[0m\u001b[0m\n\u001b[1;32m     91\u001b[0m         \u001b[0;34mr\"\"\"Input shape $(batch, feats, seq)$.\"\"\"\u001b[0m\u001b[0;34m\u001b[0m\u001b[0;34m\u001b[0m\u001b[0m\n\u001b[0;32m---> 92\u001b[0;31m         \u001b[0mshared_out\u001b[0m \u001b[0;34m=\u001b[0m \u001b[0mself\u001b[0m\u001b[0;34m.\u001b[0m\u001b[0mshared_block\u001b[0m\u001b[0;34m(\u001b[0m\u001b[0mx\u001b[0m\u001b[0;34m)\u001b[0m\u001b[0;34m\u001b[0m\u001b[0;34m\u001b[0m\u001b[0m\n\u001b[0m\u001b[1;32m     93\u001b[0m         \u001b[0mres_out\u001b[0m \u001b[0;34m=\u001b[0m \u001b[0mself\u001b[0m\u001b[0;34m.\u001b[0m\u001b[0mres_conv\u001b[0m\u001b[0;34m(\u001b[0m\u001b[0mshared_out\u001b[0m\u001b[0;34m)\u001b[0m\u001b[0;34m\u001b[0m\u001b[0;34m\u001b[0m\u001b[0m\n\u001b[1;32m     94\u001b[0m         \u001b[0;32mif\u001b[0m \u001b[0;32mnot\u001b[0m \u001b[0mself\u001b[0m\u001b[0;34m.\u001b[0m\u001b[0mskip_out_chan\u001b[0m\u001b[0;34m:\u001b[0m\u001b[0;34m\u001b[0m\u001b[0;34m\u001b[0m\u001b[0m\n",
      "\u001b[0;32m~/miniconda2/envs/zzf/lib/python3.8/site-packages/torch/nn/modules/module.py\u001b[0m in \u001b[0;36m_call_impl\u001b[0;34m(self, *input, **kwargs)\u001b[0m\n\u001b[1;32m    725\u001b[0m             \u001b[0mresult\u001b[0m \u001b[0;34m=\u001b[0m \u001b[0mself\u001b[0m\u001b[0;34m.\u001b[0m\u001b[0m_slow_forward\u001b[0m\u001b[0;34m(\u001b[0m\u001b[0;34m*\u001b[0m\u001b[0minput\u001b[0m\u001b[0;34m,\u001b[0m \u001b[0;34m**\u001b[0m\u001b[0mkwargs\u001b[0m\u001b[0;34m)\u001b[0m\u001b[0;34m\u001b[0m\u001b[0;34m\u001b[0m\u001b[0m\n\u001b[1;32m    726\u001b[0m         \u001b[0;32melse\u001b[0m\u001b[0;34m:\u001b[0m\u001b[0;34m\u001b[0m\u001b[0;34m\u001b[0m\u001b[0m\n\u001b[0;32m--> 727\u001b[0;31m             \u001b[0mresult\u001b[0m \u001b[0;34m=\u001b[0m \u001b[0mself\u001b[0m\u001b[0;34m.\u001b[0m\u001b[0mforward\u001b[0m\u001b[0;34m(\u001b[0m\u001b[0;34m*\u001b[0m\u001b[0minput\u001b[0m\u001b[0;34m,\u001b[0m \u001b[0;34m**\u001b[0m\u001b[0mkwargs\u001b[0m\u001b[0;34m)\u001b[0m\u001b[0;34m\u001b[0m\u001b[0;34m\u001b[0m\u001b[0m\n\u001b[0m\u001b[1;32m    728\u001b[0m         for hook in itertools.chain(\n\u001b[1;32m    729\u001b[0m                 \u001b[0m_global_forward_hooks\u001b[0m\u001b[0;34m.\u001b[0m\u001b[0mvalues\u001b[0m\u001b[0;34m(\u001b[0m\u001b[0;34m)\u001b[0m\u001b[0;34m,\u001b[0m\u001b[0;34m\u001b[0m\u001b[0;34m\u001b[0m\u001b[0m\n",
      "\u001b[0;32m~/miniconda2/envs/zzf/lib/python3.8/site-packages/torch/nn/modules/container.py\u001b[0m in \u001b[0;36mforward\u001b[0;34m(self, input)\u001b[0m\n\u001b[1;32m    115\u001b[0m     \u001b[0;32mdef\u001b[0m \u001b[0mforward\u001b[0m\u001b[0;34m(\u001b[0m\u001b[0mself\u001b[0m\u001b[0;34m,\u001b[0m \u001b[0minput\u001b[0m\u001b[0;34m)\u001b[0m\u001b[0;34m:\u001b[0m\u001b[0;34m\u001b[0m\u001b[0;34m\u001b[0m\u001b[0m\n\u001b[1;32m    116\u001b[0m         \u001b[0;32mfor\u001b[0m \u001b[0mmodule\u001b[0m \u001b[0;32min\u001b[0m \u001b[0mself\u001b[0m\u001b[0;34m:\u001b[0m\u001b[0;34m\u001b[0m\u001b[0;34m\u001b[0m\u001b[0m\n\u001b[0;32m--> 117\u001b[0;31m             \u001b[0minput\u001b[0m \u001b[0;34m=\u001b[0m \u001b[0mmodule\u001b[0m\u001b[0;34m(\u001b[0m\u001b[0minput\u001b[0m\u001b[0;34m)\u001b[0m\u001b[0;34m\u001b[0m\u001b[0;34m\u001b[0m\u001b[0m\n\u001b[0m\u001b[1;32m    118\u001b[0m         \u001b[0;32mreturn\u001b[0m \u001b[0minput\u001b[0m\u001b[0;34m\u001b[0m\u001b[0;34m\u001b[0m\u001b[0m\n\u001b[1;32m    119\u001b[0m \u001b[0;34m\u001b[0m\u001b[0m\n",
      "\u001b[0;32m~/miniconda2/envs/zzf/lib/python3.8/site-packages/torch/nn/modules/module.py\u001b[0m in \u001b[0;36m_call_impl\u001b[0;34m(self, *input, **kwargs)\u001b[0m\n\u001b[1;32m    725\u001b[0m             \u001b[0mresult\u001b[0m \u001b[0;34m=\u001b[0m \u001b[0mself\u001b[0m\u001b[0;34m.\u001b[0m\u001b[0m_slow_forward\u001b[0m\u001b[0;34m(\u001b[0m\u001b[0;34m*\u001b[0m\u001b[0minput\u001b[0m\u001b[0;34m,\u001b[0m \u001b[0;34m**\u001b[0m\u001b[0mkwargs\u001b[0m\u001b[0;34m)\u001b[0m\u001b[0;34m\u001b[0m\u001b[0;34m\u001b[0m\u001b[0m\n\u001b[1;32m    726\u001b[0m         \u001b[0;32melse\u001b[0m\u001b[0;34m:\u001b[0m\u001b[0;34m\u001b[0m\u001b[0;34m\u001b[0m\u001b[0m\n\u001b[0;32m--> 727\u001b[0;31m             \u001b[0mresult\u001b[0m \u001b[0;34m=\u001b[0m \u001b[0mself\u001b[0m\u001b[0;34m.\u001b[0m\u001b[0mforward\u001b[0m\u001b[0;34m(\u001b[0m\u001b[0;34m*\u001b[0m\u001b[0minput\u001b[0m\u001b[0;34m,\u001b[0m \u001b[0;34m**\u001b[0m\u001b[0mkwargs\u001b[0m\u001b[0;34m)\u001b[0m\u001b[0;34m\u001b[0m\u001b[0;34m\u001b[0m\u001b[0m\n\u001b[0m\u001b[1;32m    728\u001b[0m         for hook in itertools.chain(\n\u001b[1;32m    729\u001b[0m                 \u001b[0m_global_forward_hooks\u001b[0m\u001b[0;34m.\u001b[0m\u001b[0mvalues\u001b[0m\u001b[0;34m(\u001b[0m\u001b[0;34m)\u001b[0m\u001b[0;34m,\u001b[0m\u001b[0;34m\u001b[0m\u001b[0;34m\u001b[0m\u001b[0m\n",
      "\u001b[0;32m~/miniconda2/envs/zzf/lib/python3.8/site-packages/asteroid/masknn/norms.py\u001b[0m in \u001b[0;36mforward\u001b[0;34m(self, x, EPS)\u001b[0m\n\u001b[1;32m     58\u001b[0m             \u001b[0;34m:\u001b[0m\u001b[0;32mclass\u001b[0m\u001b[0;34m:\u001b[0m\u001b[0;31m`\u001b[0m\u001b[0mtorch\u001b[0m\u001b[0;34m.\u001b[0m\u001b[0mTensor\u001b[0m\u001b[0;31m`\u001b[0m\u001b[0;34m:\u001b[0m \u001b[0mgLN_x\u001b[0m\u001b[0;31m \u001b[0m\u001b[0;31m`\u001b[0m\u001b[0;34m[\u001b[0m\u001b[0mbatch\u001b[0m\u001b[0;34m,\u001b[0m \u001b[0mchan\u001b[0m\u001b[0;34m,\u001b[0m \u001b[0;34m*\u001b[0m\u001b[0;34m]\u001b[0m\u001b[0;31m`\u001b[0m\u001b[0;34m\u001b[0m\u001b[0;34m\u001b[0m\u001b[0m\n\u001b[1;32m     59\u001b[0m         \"\"\"\n\u001b[0;32m---> 60\u001b[0;31m         \u001b[0mvalue\u001b[0m \u001b[0;34m=\u001b[0m \u001b[0m_glob_norm\u001b[0m\u001b[0;34m(\u001b[0m\u001b[0mx\u001b[0m\u001b[0;34m,\u001b[0m \u001b[0meps\u001b[0m\u001b[0;34m=\u001b[0m\u001b[0mEPS\u001b[0m\u001b[0;34m)\u001b[0m\u001b[0;34m\u001b[0m\u001b[0;34m\u001b[0m\u001b[0m\n\u001b[0m\u001b[1;32m     61\u001b[0m         \u001b[0;32mreturn\u001b[0m \u001b[0mself\u001b[0m\u001b[0;34m.\u001b[0m\u001b[0mapply_gain_and_bias\u001b[0m\u001b[0;34m(\u001b[0m\u001b[0mvalue\u001b[0m\u001b[0;34m)\u001b[0m\u001b[0;34m\u001b[0m\u001b[0;34m\u001b[0m\u001b[0m\n\u001b[1;32m     62\u001b[0m \u001b[0;34m\u001b[0m\u001b[0m\n",
      "\u001b[0;32m~/miniconda2/envs/zzf/lib/python3.8/site-packages/asteroid/utils/torch_utils.py\u001b[0m in \u001b[0;36mwrapper\u001b[0;34m(*args, **kwargs)\u001b[0m\n\u001b[1;32m    115\u001b[0m         \u001b[0;32mif\u001b[0m \u001b[0;32mnot\u001b[0m \u001b[0mis_tracing\u001b[0m\u001b[0;34m(\u001b[0m\u001b[0;34m)\u001b[0m\u001b[0;34m:\u001b[0m\u001b[0;34m\u001b[0m\u001b[0;34m\u001b[0m\u001b[0m\n\u001b[1;32m    116\u001b[0m             \u001b[0;31m# Not tracing, don't do anything\u001b[0m\u001b[0;34m\u001b[0m\u001b[0;34m\u001b[0m\u001b[0;34m\u001b[0m\u001b[0m\n\u001b[0;32m--> 117\u001b[0;31m             \u001b[0;32mreturn\u001b[0m \u001b[0mfn\u001b[0m\u001b[0;34m(\u001b[0m\u001b[0;34m*\u001b[0m\u001b[0margs\u001b[0m\u001b[0;34m,\u001b[0m \u001b[0;34m**\u001b[0m\u001b[0mkwargs\u001b[0m\u001b[0;34m)\u001b[0m\u001b[0;34m\u001b[0m\u001b[0;34m\u001b[0m\u001b[0m\n\u001b[0m\u001b[1;32m    118\u001b[0m \u001b[0;34m\u001b[0m\u001b[0m\n\u001b[1;32m    119\u001b[0m         \u001b[0mcompiled_fn\u001b[0m \u001b[0;34m=\u001b[0m \u001b[0mtorch\u001b[0m\u001b[0;34m.\u001b[0m\u001b[0mjit\u001b[0m\u001b[0;34m.\u001b[0m\u001b[0mscript\u001b[0m\u001b[0;34m(\u001b[0m\u001b[0mwrapper\u001b[0m\u001b[0;34m.\u001b[0m\u001b[0m__original_fn\u001b[0m\u001b[0;34m)\u001b[0m  \u001b[0;31m# type: ignore\u001b[0m\u001b[0;34m\u001b[0m\u001b[0;34m\u001b[0m\u001b[0m\n",
      "\u001b[0;32m~/miniconda2/envs/zzf/lib/python3.8/site-packages/asteroid/masknn/norms.py\u001b[0m in \u001b[0;36m_glob_norm\u001b[0;34m(x, eps)\u001b[0m\n\u001b[1;32m     21\u001b[0m \u001b[0;32mdef\u001b[0m \u001b[0m_glob_norm\u001b[0m\u001b[0;34m(\u001b[0m\u001b[0mx\u001b[0m\u001b[0;34m,\u001b[0m \u001b[0meps\u001b[0m\u001b[0;34m:\u001b[0m \u001b[0mfloat\u001b[0m \u001b[0;34m=\u001b[0m \u001b[0;36m1e-8\u001b[0m\u001b[0;34m)\u001b[0m\u001b[0;34m:\u001b[0m\u001b[0;34m\u001b[0m\u001b[0;34m\u001b[0m\u001b[0m\n\u001b[1;32m     22\u001b[0m     \u001b[0mdims\u001b[0m\u001b[0;34m:\u001b[0m \u001b[0mList\u001b[0m\u001b[0;34m[\u001b[0m\u001b[0mint\u001b[0m\u001b[0;34m]\u001b[0m \u001b[0;34m=\u001b[0m \u001b[0mtorch\u001b[0m\u001b[0;34m.\u001b[0m\u001b[0marange\u001b[0m\u001b[0;34m(\u001b[0m\u001b[0;36m1\u001b[0m\u001b[0;34m,\u001b[0m \u001b[0mlen\u001b[0m\u001b[0;34m(\u001b[0m\u001b[0mx\u001b[0m\u001b[0;34m.\u001b[0m\u001b[0mshape\u001b[0m\u001b[0;34m)\u001b[0m\u001b[0;34m)\u001b[0m\u001b[0;34m.\u001b[0m\u001b[0mtolist\u001b[0m\u001b[0;34m(\u001b[0m\u001b[0;34m)\u001b[0m\u001b[0;34m\u001b[0m\u001b[0;34m\u001b[0m\u001b[0m\n\u001b[0;32m---> 23\u001b[0;31m     \u001b[0;32mreturn\u001b[0m \u001b[0mz_norm\u001b[0m\u001b[0;34m(\u001b[0m\u001b[0mx\u001b[0m\u001b[0;34m,\u001b[0m \u001b[0mdims\u001b[0m\u001b[0;34m,\u001b[0m \u001b[0meps\u001b[0m\u001b[0;34m)\u001b[0m\u001b[0;34m\u001b[0m\u001b[0;34m\u001b[0m\u001b[0m\n\u001b[0m\u001b[1;32m     24\u001b[0m \u001b[0;34m\u001b[0m\u001b[0m\n\u001b[1;32m     25\u001b[0m \u001b[0;34m\u001b[0m\u001b[0m\n",
      "\u001b[0;32m~/miniconda2/envs/zzf/lib/python3.8/site-packages/asteroid/masknn/norms.py\u001b[0m in \u001b[0;36mz_norm\u001b[0;34m(x, dims, eps)\u001b[0m\n\u001b[1;32m     14\u001b[0m     \u001b[0mmean\u001b[0m \u001b[0;34m=\u001b[0m \u001b[0mx\u001b[0m\u001b[0;34m.\u001b[0m\u001b[0mmean\u001b[0m\u001b[0;34m(\u001b[0m\u001b[0mdim\u001b[0m\u001b[0;34m=\u001b[0m\u001b[0mdims\u001b[0m\u001b[0;34m,\u001b[0m \u001b[0mkeepdim\u001b[0m\u001b[0;34m=\u001b[0m\u001b[0;32mTrue\u001b[0m\u001b[0;34m)\u001b[0m\u001b[0;34m\u001b[0m\u001b[0;34m\u001b[0m\u001b[0m\n\u001b[1;32m     15\u001b[0m     \u001b[0mvar2\u001b[0m \u001b[0;34m=\u001b[0m \u001b[0mtorch\u001b[0m\u001b[0;34m.\u001b[0m\u001b[0mvar\u001b[0m\u001b[0;34m(\u001b[0m\u001b[0mx\u001b[0m\u001b[0;34m,\u001b[0m \u001b[0mdim\u001b[0m\u001b[0;34m=\u001b[0m\u001b[0mdims\u001b[0m\u001b[0;34m,\u001b[0m \u001b[0mkeepdim\u001b[0m\u001b[0;34m=\u001b[0m\u001b[0;32mTrue\u001b[0m\u001b[0;34m,\u001b[0m \u001b[0munbiased\u001b[0m\u001b[0;34m=\u001b[0m\u001b[0;32mFalse\u001b[0m\u001b[0;34m)\u001b[0m\u001b[0;34m\u001b[0m\u001b[0;34m\u001b[0m\u001b[0m\n\u001b[0;32m---> 16\u001b[0;31m     \u001b[0mvalue\u001b[0m \u001b[0;34m=\u001b[0m \u001b[0;34m(\u001b[0m\u001b[0mx\u001b[0m \u001b[0;34m-\u001b[0m \u001b[0mmean\u001b[0m\u001b[0;34m)\u001b[0m \u001b[0;34m/\u001b[0m \u001b[0mtorch\u001b[0m\u001b[0;34m.\u001b[0m\u001b[0msqrt\u001b[0m\u001b[0;34m(\u001b[0m\u001b[0;34m(\u001b[0m\u001b[0mvar2\u001b[0m \u001b[0;34m+\u001b[0m \u001b[0meps\u001b[0m\u001b[0;34m)\u001b[0m\u001b[0;34m)\u001b[0m\u001b[0;34m\u001b[0m\u001b[0;34m\u001b[0m\u001b[0m\n\u001b[0m\u001b[1;32m     17\u001b[0m     \u001b[0;32mreturn\u001b[0m \u001b[0mvalue\u001b[0m\u001b[0;34m\u001b[0m\u001b[0;34m\u001b[0m\u001b[0m\n\u001b[1;32m     18\u001b[0m \u001b[0;34m\u001b[0m\u001b[0m\n",
      "\u001b[0;31mKeyboardInterrupt\u001b[0m: "
     ]
    }
   ],
   "source": [
    "def rto_with_gt(given_wavs, gt_wav):\n",
    "    \n",
    "    est_wav, mix_wav = given_wavs\n",
    "    \n",
    "    sisnr_best = sisnr(mix_wav, gt_wav)\n",
    "    w_best = 1\n",
    "    for i in range(0, 10): # 0 1 2 3 4 5 6 7 8 9\n",
    "        w = i/10\n",
    "        rto_wav = w * est_wav + (1-w) * mix_wav\n",
    "        sisnr_rto = sisnr(rto_wav, gt_wav)\n",
    "        if sisnr_best < sisnr_rto:\n",
    "            sisnr_best = sisnr_rto\n",
    "            w_best = w\n",
    "    \n",
    "    return sisnr_best, w_best\n",
    "\n",
    "csv = '/data2/yqc/zzf/repo_zzf/speakerbeam/egs/libri2mix/data/wav8k/min/test/map_mixture2enrollment'\n",
    "\n",
    "with open(csv, 'r') as f:\n",
    "    lines = f.readlines()\n",
    "    \n",
    "mix_base = '/data2/yqc/zzf/dataset_zzf/librimix/Libri2Mix/wav8k/min/test/mix_both/'\n",
    "tt_base = '/data2/yqc/zzf/dataset_zzf/librimix/Libri2Mix/wav8k/min/test/'\n",
    "\n",
    "sisdri_list_librimix = []\n",
    "for line in tqdm.tqdm(lines):\n",
    "    \n",
    "    line = line.strip()\n",
    "    mix_file, aux_spk, aux_file = line.split(' ')\n",
    "    \n",
    "    mix_path = os.path.join(mix_base, mix_file+'.wav')\n",
    "    aux_path = os.path.join(tt_base, aux_file+'.wav')\n",
    "    if aux_spk == mix_file.split('_')[0]:\n",
    "        gt_path = os.path.join(tt_base, 's1', mix_file+'.wav')\n",
    "    elif aux_spk == mix_file.split('_')[1]:\n",
    "        gt_path = os.path.join(tt_base, 's2', mix_file+'.wav')\n",
    "    \n",
    "    mix_wav, fs = ta.load(mix_path)\n",
    "    aux_wav, fs = ta.load(aux_path)\n",
    "    gt_wav, fs = ta.load(gt_path)\n",
    "    \n",
    "    mix_wav = mix_wav.squeeze().to(device)\n",
    "    aux_wav = aux_wav.squeeze().to(device)\n",
    "    gt_wav = gt_wav.squeeze().to(device)\n",
    "    \n",
    "    # 说话人抽取\n",
    "    est_wav = model(mix_wav.unsqueeze(0), aux_wav.unsqueeze(0))[0][0].detach() # 推理\n",
    "    \n",
    "    minlen = min(len(mix_wav.squeeze()), len(est_wav.squeeze()), len(gt_wav))\n",
    "    mix_wav = mix_wav[:minlen]\n",
    "    gt_wav = gt_wav[:minlen]\n",
    "    est_wav = est_wav[:minlen]\n",
    "    \n",
    "    sisdr_best, w_best = rto_with_gt(given_wavs=[est_wav, mix_wav], gt_wav=gt_wav)\n",
    "    sisdr_best.cpu().item()\n",
    "    \n",
    "    sisdr_mix = sisnr(mix_wav, gt_wav).cpu().item()\n",
    "    sisdr_sep = sisnr(est_wav, gt_wav).cpu().item()\n",
    "    sisdr_i = sisdr_sep - sisdr_mix\n",
    "    sisdri_list_librimix.append(sisdr_i)\n",
    "    \n",
    "    if sisdr_best > sisdr_sep:\n",
    "        print(sisdr_best, sisdr_sep)"
   ]
  },
  {
   "cell_type": "code",
   "execution_count": 67,
   "id": "7447ec4d-8b90-4d27-ae55-8a9a0a23ba9b",
   "metadata": {},
   "outputs": [
    {
     "data": {
      "text/plain": [
       "tensor(12.2696, device='cuda:0')"
      ]
     },
     "execution_count": 67,
     "metadata": {},
     "output_type": "execute_result"
    }
   ],
   "source": [
    "sisnr_best"
   ]
  },
  {
   "cell_type": "code",
   "execution_count": 68,
   "id": "b6486c1f-77f2-4e33-9816-1a3de66550d7",
   "metadata": {},
   "outputs": [
    {
     "data": {
      "text/plain": [
       "tensor(12.2696, device='cuda:0')"
      ]
     },
     "execution_count": 68,
     "metadata": {},
     "output_type": "execute_result"
    }
   ],
   "source": [
    "sisdr_sep"
   ]
  },
  {
   "cell_type": "code",
   "execution_count": 65,
   "id": "f0ef4e05-feb3-4d5b-a4f5-38d7a1e5504d",
   "metadata": {},
   "outputs": [],
   "source": [
    "np.save('sisdri_list_librimix(mix-both)_rto-gt.npy', sisdri_list_librimix)"
   ]
  },
  {
   "cell_type": "markdown",
   "id": "44578e5b-6c43-4c11-8ecf-3a4f1b717143",
   "metadata": {},
   "source": [
    "##### RTO with aux"
   ]
  },
  {
   "cell_type": "code",
   "execution_count": null,
   "id": "582ee375-8d7f-481f-9160-85b4a92e3710",
   "metadata": {},
   "outputs": [],
   "source": [
    "def rto_with_aux(given_wavs, aux_wav):\n",
    "    \n",
    "    est_wav, mix_wav = given_wavs\n",
    "    \n",
    "    sisnr_best = sisnr(mix_wav, gt_wav)\n",
    "    w_best = 1\n",
    "    for i in range(0, 10): # 0 1 2 3 4 5 6 7 8 9\n",
    "        w = i/10\n",
    "        rto_wav = w * est_wav + (1-w) * mix_wav\n",
    "        sisnr_rto = sisnr(rto_wav, gt_wav)\n",
    "        if sisnr_best < sisnr_rto:\n",
    "            sisnr_best = sisnr_rto\n",
    "            w_best = w\n",
    "    \n",
    "    return sisnr_best, w_best\n",
    "\n",
    "csv = '/data2/yqc/zzf/repo_zzf/speakerbeam/egs/libri2mix/data/wav8k/min/test/map_mixture2enrollment'\n",
    "\n",
    "with open(csv, 'r') as f:\n",
    "    lines = f.readlines()\n",
    "    \n",
    "mix_base = '/data2/yqc/zzf/dataset_zzf/librimix/Libri2Mix/wav8k/min/test/mix_both/'\n",
    "tt_base = '/data2/yqc/zzf/dataset_zzf/librimix/Libri2Mix/wav8k/min/test/'\n",
    "\n",
    "sisdri_list_librimix = []\n",
    "for line in tqdm.tqdm(lines):\n",
    "    \n",
    "    line = line.strip()\n",
    "    mix_file, aux_spk, aux_file = line.split(' ')\n",
    "    \n",
    "    mix_path = os.path.join(mix_base, mix_file+'.wav')\n",
    "    aux_path = os.path.join(tt_base, aux_file+'.wav')\n",
    "    if aux_spk == mix_file.split('_')[0]:\n",
    "        gt_path = os.path.join(tt_base, 's1', mix_file+'.wav')\n",
    "    elif aux_spk == mix_file.split('_')[1]:\n",
    "        gt_path = os.path.join(tt_base, 's2', mix_file+'.wav')\n",
    "    \n",
    "    mix_wav, fs = ta.load(mix_path)\n",
    "    aux_wav, fs = ta.load(aux_path)\n",
    "    gt_wav, fs = ta.load(gt_path)\n",
    "    \n",
    "    mix_wav = mix_wav.squeeze().to(device)\n",
    "    aux_wav = aux_wav.squeeze().to(device)\n",
    "    gt_wav = gt_wav.squeeze().to(device)\n",
    "    \n",
    "    # 说话人抽取\n",
    "    est_wav = model(mix_wav.unsqueeze(0), aux_wav.unsqueeze(0))[0][0].detach() # 推理\n",
    "    \n",
    "    minlen = min(len(mix_wav.squeeze()), len(est_wav.squeeze()), len(gt_wav))\n",
    "    mix_wav = mix_wav[:minlen]\n",
    "    gt_wav = gt_wav[:minlen]\n",
    "    est_wav = est_wav[:minlen]\n",
    "    \n",
    "    sisdr_mix = sisnr(mix_wav, gt_wav)\n",
    "    sisdr_sep = sisnr(est_wav, gt_wav)\n",
    "    sisdr_i = sisdr_sep - sisdr_mix\n",
    "    sisdri_list_librimix.append(sisdr_i.cpu().numpy())\n",
    "                       \n",
    "    rto_wav, w_rto = rto_with_aux(given_wavs=[est_wav, mix_wav], aux_wav=aux_wav)\n",
    "    sisnr_rto  = sisnr(rto_wav, gt_wav)\n",
    "    sisdr_i_rto = sisnr_rto - sisdr_mix\n",
    "    sisdri_list_librimix_rto.append(sisdr_i_rto.cpu().item())\n",
    "    \n",
    "    break"
   ]
  }
 ],
 "metadata": {
  "kernelspec": {
   "display_name": "Python 3 (ipykernel)",
   "language": "python",
   "name": "python3"
  },
  "language_info": {
   "codemirror_mode": {
    "name": "ipython",
    "version": 3
   },
   "file_extension": ".py",
   "mimetype": "text/x-python",
   "name": "python",
   "nbconvert_exporter": "python",
   "pygments_lexer": "ipython3",
   "version": "3.8.12"
  }
 },
 "nbformat": 4,
 "nbformat_minor": 5
}
